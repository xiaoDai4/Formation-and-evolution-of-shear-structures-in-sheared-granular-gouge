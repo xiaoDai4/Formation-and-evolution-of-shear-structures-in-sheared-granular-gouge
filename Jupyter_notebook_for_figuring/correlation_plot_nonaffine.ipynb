{
 "cells": [
  {
   "cell_type": "code",
   "execution_count": 49,
   "id": "1b9fe763",
   "metadata": {},
   "outputs": [],
   "source": [
    "#  import package and data, set wd\n",
    "import matplotlib.pyplot as plt\n",
    "import numpy as np\n",
    "import os\n",
    "import math\n",
    "import pandas as pd\n",
    "from scipy.optimize import curve_fit\n"
   ]
  },
  {
   "cell_type": "code",
   "execution_count": 50,
   "id": "0feca706",
   "metadata": {},
   "outputs": [],
   "source": [
    "#  set parameters\n",
    "\n",
    "#  work path\n",
    "wd_ = 'C:/Users/daizh/sheared_granular_gouge/20231116_FifthRun3/PythonFile_CalculateGranularQuantity'\n",
    "\n",
    "# define the average d of balls\n",
    "d_average_ = 2.5e-5\n",
    "\n",
    "#%% define file to be plotted\n",
    "list_filename_ = ['correlation_data/correlation_of_nonaffine_from_0_to_40.npy',\n",
    "                 'correlation_data/correlation_of_nonaffine_from_60_to_100.npy',\n",
    "                 'correlation_data/correlation_of_nonaffine_from_100_to_140.npy',\n",
    "                 'correlation_data/correlation_of_nonaffine_from_820_to_860.npy']\n",
    "colors_ = ['g', 'y', 'r', 'b']\n",
    "if len(list_filename_) != len(colors_):\n",
    "    print('The program terminated!!!\\nThe size of \\'list_filename_\\' and \\'colors_\\' is not the same')\n",
    "    sys.exit()\n",
    "labels_ = ['I. linear, $\\\\xi$ = %.2f d$_\\\\mathrm{avg}$',\n",
    "          'II. yield, $\\\\xi$ = %.2f d$_\\\\mathrm{avg}$',\n",
    "          'III. unstable shearing, $\\\\xi$ = %.2f d$_\\\\mathrm{avg}$',\n",
    "          'IV. stable shearing, $\\\\xi$ = %.2f d$_\\\\mathrm{avg}$']\n",
    "if len(list_filename_) != len(labels_):\n",
    "    print('The program terminated!!!\\nThe size of \\'list_filename_\\' and \\'colors_\\' is not the same')\n",
    "    sys.exit()   \n",
    "# correlation length\n",
    "correlation_length_ = [] # record the correlation length here\n",
    "\n",
    "\n",
    "#%% define index to be calculated\n",
    "index_former_ = [0, 60, 100, 820]\n",
    "index_later_ = [40, 100, 140, 860]\n",
    "if len(index_former_) != len(index_later_):\n",
    "    print('The program terminated!!!\\nThe size of \\'index_former\\' and \\'index_later\\' is not the same')\n",
    "    sys.exit()\n",
    "    \n",
    "# set the mesh grid\n",
    "precision_ = 100\n",
    "x_lol_ = 0.5e-3 # lower limit of x\n",
    "x_upl_ = 3.5e-3 # upper limit of x\n",
    "y_lol_ = 1e-3 # lower limit of y\n",
    "y_upl_ = 3e-3 # upper limit of y\n",
    "xx_ = np.linspace(x_lol_,x_upl_, num = 2 * precision_)\n",
    "yy_ = np.linspace(y_lol_,y_upl_, num = precision_)\n",
    "grid_xx_, grid_yy_ = np.meshgrid(xx_, yy_)\n",
    "\n",
    "# set the translate threshold\n",
    "thresh_trans_ = 0\n",
    "\n",
    "\n",
    "# set the filter extrem threshold\n",
    "thresh_ = float('Inf')\n",
    "\n",
    "# set the plot parameter\n",
    "# the fit function\n",
    "def func(x, a):\n",
    "    return np.exp(a*x)"
   ]
  },
  {
   "cell_type": "code",
   "execution_count": 51,
   "id": "3ddb4157",
   "metadata": {},
   "outputs": [],
   "source": [
    "# change wd and import functions\n",
    "#%% change current directory\n",
    "os.chdir(wd_)\n",
    "# import functions\n",
    "from import_data import *"
   ]
  },
  {
   "cell_type": "code",
   "execution_count": 52,
   "id": "87f65bb6",
   "metadata": {},
   "outputs": [
    {
     "data": {
      "image/png": "[encoded data removed]",
      "text/plain": [
       "<Figure size 432x288 with 1 Axes>"
      ]
     },
     "metadata": {
      "needs_background": "light"
     },
     "output_type": "display_data"
    }
   ],
   "source": [
    "steps_ = len(list_filename_)\n",
    "for i_ in range(steps_):\n",
    "#     import data\n",
    "    correlation_ = np.load(list_filename_[i_])\n",
    "    # correlation_: row 0, i.e. correlation_[0, :] is the prescribed mutual distance\n",
    "    # correlation_: row 1, i.e. correlation_[1, :] is the prescribed mutual distance\n",
    "    #     fit and plot\n",
    "    popt, pcov = curve_fit(func, correlation_[0, :] / d_average_, correlation_[1, :])\n",
    "    rr_ = np.linspace(correlation_[0, :][0]/ d_average_,correlation_[0, :][-1]/ d_average_, num = 100)\n",
    "#     plt.plot(rr_, func(rr_, popt),  linewidth = 1, color = colors_[i_])\n",
    "    correlation_length_.append(-1/popt[0])\n",
    "    \n",
    "#     plot\n",
    "    plt.rcParams['xtick.direction'] = 'in'\n",
    "    plt.rcParams['ytick.direction'] = 'in'\n",
    "    plt.rcParams['font.size'] = 13\n",
    "    plt.rc('font', family = 'Arial')\n",
    "\n",
    "    plt.plot(correlation_[0, :] / d_average_, correlation_[1, :],  linewidth = 1, color = colors_[i_], marker = 'o',\n",
    "            label =  labels_[i_] % (-1 / popt[0]))\n",
    "\n",
    "    plt.ylim(10**-4,10**0)\n",
    "    plt.xlim(10**-1,10**1)\n",
    "#     plt.axhline(0, linestyle = '--', color = 'r', linewidth = 1)\n",
    "    plt.xlabel('$\\\\mathit{r}$ (d$_\\\\mathrm{avg}$)', fontsize = 15)\n",
    "    plt.ylabel('$\\\\mathit{C}$' + '$_\\\\mathit{D}$'+ '$_{^\\\\mathrm{2}}$' + '$_{_\\\\mathrm{min}}$($\\\\Delta\\\\mathit{r}$)', fontsize = 15)\n",
    "    \n",
    "\n",
    "\n",
    "    \n",
    "    plt.xscale('log')\n",
    "    plt.yscale('log')\n",
    "#     plt.title('Small slip, time = %.2fms ' % ConSV_PlateBottomBeadMiddle_.loc[i_ + index1_,'Time'])\n",
    "    plt.tight_layout()\n",
    "#     plt.savefig('note_book_plot/correlation_of_%s.svg' % os.path.splitext(os.path.basename(list_filename_[i_]))[0], dpi=600, format='svg')\n",
    "#     plt.show()\n",
    "plt.legend()\n",
    "plt.legend(frameon = False)\n",
    "plt.savefig('note_book_plot/correlation_in_four_stage.svg', dpi=600, format='svg')"
   ]
  },
  {
   "cell_type": "code",
   "execution_count": null,
   "id": "7b3cfa35",
   "metadata": {},
   "outputs": [],
   "source": []
  },
  {
   "cell_type": "code",
   "execution_count": null,
   "id": "925896ed",
   "metadata": {},
   "outputs": [],
   "source": []
  },
  {
   "cell_type": "code",
   "execution_count": 53,
   "id": "41a462cf",
   "metadata": {},
   "outputs": [],
   "source": [
    "#%% Screen particles according to x to avoid effects caused by BC\n",
    "def screen_grains_by_x(l_lim_, u_lim_, c_, v_):\n",
    "    '''\n",
    "    l_lim_ - lower limit\n",
    "    u_lim_ - upper limit\n",
    "    c_ - c coodinate\n",
    "    v_ - corresponding variables\n",
    "    \n",
    "    returns:\n",
    "        cnew_ - the  coodinate in a centain range\n",
    "        vnew_ - the correspnding coodinate in a certain range\n",
    "    \n",
    "    '''\n",
    "    cnew_, vnew_ = [], [] # initialize\n",
    "    for i_ in range(c_.shape[0]):\n",
    "        \n",
    "        if c_[i_][0] > l_lim_ and c_[i_][0]  < u_lim_:\n",
    "            cnew_.append(c_[i_][:])\n",
    "            vnew_.append(v_[i_])\n",
    "\n",
    "    return np.array(cnew_), np.array(vnew_)  # return handled coodinate and variables.\n",
    "\n",
    "# cnew_, ynew_ = screen_grains_by_x(0.5, 3.5, x_, y_)\n",
    "# cnew_, vnew_ = screen_grains_by_x(0.5, 3.5, x_, vx_)\n"
   ]
  },
  {
   "cell_type": "code",
   "execution_count": 54,
   "id": "5f7fcec5",
   "metadata": {},
   "outputs": [],
   "source": [
    "# define a function to delete extreme value\n",
    "#%% remove extreme value \n",
    "def remove_extreme_value(c_, v_, thresh_, y_lol_, y_upl_):\n",
    "    '''\n",
    "    c_ - c coodinate\n",
    "    v_ - corresponding variables\n",
    "    thresh_ - the threshold\n",
    "    \n",
    "    returns:\n",
    "        cnew_ - the coodinate with no extrem values\n",
    "        vnew_ - the correspnding coodinate \n",
    "    \n",
    "    '''\n",
    "    cnew_, vnew_ = [], [] # initialize\n",
    "    for i_ in range(c_.shape[0]):\n",
    "        if v_[i_] <= thresh_:\n",
    "            if c_[i_][1] < y_upl_:\n",
    "                if c_[i_][1] > y_lol_:\n",
    "                    cnew_.append(c_[i_, :])\n",
    "                    vnew_.append(v_[i_])\n",
    "\n",
    "    return np.array(cnew_), np.array(vnew_)  # return handled coodinate and variables.\n",
    "\n",
    "# cnew_, vnew_ = remove_extreme_value(c_, v_, thresh_)\n"
   ]
  },
  {
   "cell_type": "code",
   "execution_count": 55,
   "id": "b6f8eba9",
   "metadata": {
    "scrolled": true
   },
   "outputs": [
    {
     "name": "stdout",
     "output_type": "stream",
     "text": [
      "\n",
      "Reading particle info 0...\n",
      "Index(['ID', ' cx', ' cy', ' dx', ' dy', ' vx', ' vy', ' Cxx', ' Cxy', ' Cyy'], dtype='object')\n",
      "\n",
      "Read particle info 0 successful\n",
      "\n",
      "Read coordinate done\n",
      "\n",
      "\n",
      "Reading particle info 60...\n",
      "Index(['ID', ' cx', ' cy', ' dx', ' dy', ' vx', ' vy', ' Cxx', ' Cxy', ' Cyy'], dtype='object')\n",
      "\n",
      "Read particle info 60 successful\n",
      "\n",
      "Read coordinate done\n",
      "\n",
      "\n",
      "Reading particle info 100...\n",
      "Index(['ID', ' cx', ' cy', ' dx', ' dy', ' vx', ' vy', ' Cxx', ' Cxy', ' Cyy'], dtype='object')\n",
      "\n",
      "Read particle info 100 successful\n",
      "\n",
      "Read coordinate done\n",
      "\n",
      "\n",
      "Reading particle info 820...\n",
      "Index(['ID', ' cx', ' cy', ' dx', ' dy', ' vx', ' vy', ' Cxx', ' Cxy', ' Cyy'], dtype='object')\n",
      "\n",
      "Read particle info 820 successful\n",
      "\n",
      "Read coordinate done\n",
      "\n"
     ]
    },
    {
     "data": {
      "image/png": "[encoded data removed]",
      "text/plain": [
       "<Figure size 432x288 with 1 Axes>"
      ]
     },
     "metadata": {
      "needs_background": "light"
     },
     "output_type": "display_data"
    }
   ],
   "source": [
    "# statistic of nonaffine\n",
    "steps_ = len(list_filename_)\n",
    "centers_ = []\n",
    "probability_density_ = []\n",
    "for i_ in range(steps_):\n",
    "    #     import data\n",
    "    nonaffine_ = np.load('nonaffine_displacement_data/nonaffine_from_%d_to_%d.npy' % \\\n",
    "            (index_former_[i_], index_later_[i_]))\n",
    "    ParticleInfo_former_ = read_ParticleInfo('../particle_info/particle_info_%d.txt', index_former_[i_])\n",
    "    c_former_ = ParticleInfo_former_[:,[1,2]] # the coordinate of former particles\n",
    "    c_former_ = c_former_.astype('float64')\n",
    "    print('\\nRead coordinate done\\n')\n",
    "   # screen value to avoid BC\n",
    "    c_screened_, v_screened_ = screen_grains_by_x(x_lol_, x_upl_, c_former_, nonaffine_)\n",
    "    # remove extreme value of nonaffine\n",
    "    cnew_, vnew_ = remove_extreme_value(c_screened_, v_screened_ / np.mean(v_screened_), thresh_, y_lol_, y_upl_)  \n",
    "    # stastics the count in each bins\n",
    "    n_,bins_, patches_ = plt.hist(vnew_, bins = 1000)\n",
    "    # record n_ and center of bins\n",
    "    t_ = np.zeros(len(n_))\n",
    "    for i_ in range(len(n_)):\n",
    "        t_[i_] = (bins_[i_] + bins_[i_ + 1]) / 2\n",
    "    centers_.append(t_)\n",
    "    probability_density_.append(n_ / (t_[1] - t_[0])/ np.sum(n_))"
   ]
  },
  {
   "cell_type": "code",
   "execution_count": 56,
   "id": "5d5aa862",
   "metadata": {},
   "outputs": [
    {
     "data": {
      "text/plain": [
       "9815.0"
      ]
     },
     "execution_count": 56,
     "metadata": {},
     "output_type": "execute_result"
    }
   ],
   "source": [
    "np.sum(n_)"
   ]
  },
  {
   "cell_type": "code",
   "execution_count": 57,
   "id": "7eb29c36",
   "metadata": {
    "scrolled": true
   },
   "outputs": [
    {
     "data": {
      "image/png": "[encoded data removed]",
      "text/plain": [
       "<Figure size 432x288 with 1 Axes>"
      ]
     },
     "metadata": {
      "needs_background": "light"
     },
     "output_type": "display_data"
    }
   ],
   "source": [
    "# define the exponential distribution function\n",
    "def func(x_, lambda_, a0_):\n",
    "    return  lambda_ * np.exp(-lambda_ * x_) \n",
    "plt.axes(yscale = \"log\", xscale = \"log\")\n",
    "plt.rc('font', family = 'Arial')\n",
    "plt.rcParams['xtick.direction'] = 'in'\n",
    "plt.rcParams['ytick.direction'] = 'in'\n",
    "\n",
    "\n",
    "# popt0_, pcov0_ = curve_fit(func, centers_[0][0:20], probability_density_[0][0:20])\n",
    "# plt.plot(centers_[0][0:20], func(centers_[0][0:20], *popt0_), linestyle = '--', color = 'g', label = 'I. linear, $\\lambda$ = %.2f' % popt0_[0])\n",
    "\n",
    "# popt1_, pcov1_ = curve_fit(func, centers_[1][0:20], probability_density_[1][0:20])\n",
    "# plt.plot(centers_[1][0:20], func(centers_[1][0:20], *popt1_), linestyle = '--', color = 'y', label = 'II. yield, $\\lambda$ = %.2f' % popt1_[0])\n",
    "\n",
    "# popt2_, pcov2_ = curve_fit(func, centers_[2][0:20], probability_density_[2][0:20])\n",
    "# plt.plot(centers_[2][0:20], func(centers_[2][0:20], *popt2_), linestyle = '--', color = 'r', label = 'III. unstable stick-slip, $\\lambda$ = %.2f' % popt2_[0])\n",
    "\n",
    "# popt3_, pcov3_ = curve_fit(func, centers_[3][0:20], probability_density_[3][0:20])\n",
    "# plt.plot(centers_[3][0:20], func(centers_[3][0:20], *popt3_), linestyle = '--', color = 'b', label = 'IV. stable stick-slip, $\\lambda$ = %.2f' % popt3_[0])\n",
    "\n",
    "\n",
    "# plt.scatter(bins_large_[0:32], n_large_[0:32], c = 'none', edgecolor = 'r', linewidth = 1)\n",
    "# plt.scatter(bins_small_[0:15], n_small_[0:15], c = 'none', edgecolor = 'k', linewidth = 1)\n",
    "plt.plot(centers_[0][0:20], probability_density_[0][0:20], marker = 'o', markerfacecolor = 'w', color = 'g', linewidth = 1, label = 'I. linear')\n",
    "plt.plot(centers_[1][0:20], probability_density_[1][0:20], marker = 'o', markerfacecolor = 'w', color = 'y', linewidth = 1, label = 'II. yield')\n",
    "plt.plot(centers_[2][0:20], probability_density_[2][0:20], marker = 'o', markerfacecolor = 'w', color = 'r', linewidth = 1, label = 'III. unstable shearing')\n",
    "plt.plot(centers_[3][0:30], probability_density_[3][0:30], marker = 'o', markerfacecolor = 'w', color = 'b', linewidth = 1, label = 'IV. stable shearing')\n",
    "plt.ylim(10**-3, 10**1)\n",
    "plt.xlim(10**-2, 10**1)\n",
    "# plt.xlim(-0.005, 0.08)\n",
    "plt.legend(frameon = False)\n",
    "\n",
    "plt.xlabel('$\\\\mathit{D}$'+ '$^\\\\mathrm{2}$' + '$_\\\\mathrm{min}$' + ' $\\\\mathrm{/ <}$' + '$\\\\mathit{D}$'+ '$^\\\\mathrm{2}$' + '$_\\\\mathrm{min}$' + '$\\\\mathrm{>}$', fontsize=15)\n",
    "plt.ylabel('Probability density', fontsize=15)\n",
    "\n",
    "\n",
    "\n",
    "plt.tight_layout()\n",
    "plt.savefig('note_book_plot/statistic nonaffine.svg', dpi=600, format='svg')\n",
    "plt.show()"
   ]
  },
  {
   "cell_type": "code",
   "execution_count": null,
   "id": "34e8257a",
   "metadata": {},
   "outputs": [],
   "source": []
  },
  {
   "cell_type": "code",
   "execution_count": 58,
   "id": "49320e4c",
   "metadata": {},
   "outputs": [
    {
     "data": {
      "text/plain": [
       "7.38905609893065"
      ]
     },
     "execution_count": 58,
     "metadata": {},
     "output_type": "execute_result"
    }
   ],
   "source": [
    "math.exp(2)"
   ]
  }
 ],
 "metadata": {
  "kernelspec": {
   "display_name": "Python 3 (ipykernel)",
   "language": "python",
   "name": "python3"
  },
  "language_info": {
   "codemirror_mode": {
    "name": "ipython",
    "version": 3
   },
   "file_extension": ".py",
   "mimetype": "text/x-python",
   "name": "python",
   "nbconvert_exporter": "python",
   "pygments_lexer": "ipython3",
   "version": "3.9.7"
  }
 },
 "nbformat": 4,
 "nbformat_minor": 5
}
